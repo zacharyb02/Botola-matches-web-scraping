{
 "cells": [
  {
   "cell_type": "code",
   "execution_count": 59,
   "id": "c4d0146a-6fcb-41a7-a41b-c7e46e637819",
   "metadata": {},
   "outputs": [],
   "source": [
    "from selenium import webdriver\n",
    "\n",
    "driver = webdriver.Chrome()\n",
    "driver.get('https://www.goalzz.com/main.aspx?c=22826&stage=1&sch=true')\n",
    "\n",
    "html = driver.page_source \n",
    "driver.quit() "
   ]
  },
  {
   "cell_type": "code",
   "execution_count": 60,
   "id": "ccbe88ee-f385-4d52-a974-36f85db7f8c8",
   "metadata": {},
   "outputs": [
    {
     "name": "stdout",
     "output_type": "stream",
     "text": [
      "[0, 3, 7, 10, 12, 14, 18, 22, 24, 28, 32, 35, 37, 41, 46, 51, 56, 59, 62, 64, 67, 69, 72, 74, 78, 80, 82, 85, 89, 93, 96, 100, 104, 109, 114, 117, 121, 125, 128, 132, 136, 139, 143, 147, 150, 154, 157, 161, 165, 168, 170, 175, 180, 183, 186, 188, 191, 193, 196, 200, 202, 204, 206, 209, 212, 214, 217, 219, 222, 226, 230, 232, 235, 238, 240, 243, 246, 248, 250, 252, 254, 256, 258, 260, 263, 267, 269, 272, 275, 277, 279, 281, 283, 285, 291, 295, 298, 305, 312, 315, 320, 325, 334, 337, 340, 344]\n"
     ]
    }
   ],
   "source": [
    "from bs4 import BeautifulSoup\n",
    "soup=BeautifulSoup(html)\n",
    "standing_table=soup.select('tr[data-match],td.match_date')\n",
    "date_index=[]\n",
    "for i in range(0,len(standing_table)):\n",
    "    if str(standing_table[i]).startswith('<td'):\n",
    "        standing_table[i]=standing_table[i].text\n",
    "        date_index.append(i)\n",
    "print(date_index)"
   ]
  },
  {
   "cell_type": "code",
   "execution_count": 61,
   "id": "3079e832-5a57-4837-ba69-4138deff17e2",
   "metadata": {},
   "outputs": [],
   "source": [
    "for i in range(0,len(standing_table)):\n",
    "    if i not in date_index:\n",
    "        standing_table[i]=[standing_table[i].find('span').text[:5],standing_table[i].find_all('a', class_='tl')[0].text,standing_table[i].find('td', class_='sc').text,standing_table[i].find_all('a', class_='tl')[1].text,standing_table[i].find('td', class_='s').text]"
   ]
  },
  {
   "cell_type": "code",
   "execution_count": 62,
   "id": "de6feabd-9cc8-4dad-8c04-2172d9bd4d61",
   "metadata": {},
   "outputs": [
    {
     "data": {
      "text/plain": [
       "['Friday 10 September 2021',\n",
       " ['19:15', 'Youssoufia Berrechid', '0 : 1', 'Raja Club Athletic', 'Week # 1'],\n",
       " ['21:32',\n",
       "  'Olympique Club de Safi',\n",
       "  '0 : 1',\n",
       "  'Difaa Hassani El Jadidi',\n",
       "  'Week # 1'],\n",
       " 'Saturday 11 September 2021',\n",
       " ['17:02',\n",
       "  'Olympique Club De Khouribga',\n",
       "  '0 : 0',\n",
       "  'Mouloudia Oujda',\n",
       "  'Week # 1']]"
      ]
     },
     "execution_count": 62,
     "metadata": {},
     "output_type": "execute_result"
    }
   ],
   "source": [
    "standing_table[:5]"
   ]
  },
  {
   "cell_type": "code",
   "execution_count": 63,
   "id": "01075c8a-8ce5-4722-92cd-069345cfe2e4",
   "metadata": {},
   "outputs": [],
   "source": [
    "for i in range(0,len(standing_table)):\n",
    "    if i in date_index:\n",
    "        a=i\n",
    "    if i not in date_index:\n",
    "        standing_table[i].append(standing_table[a])"
   ]
  },
  {
   "cell_type": "code",
   "execution_count": 64,
   "id": "953c060b-a59e-44d3-b36f-e8dcaca1232a",
   "metadata": {},
   "outputs": [
    {
     "data": {
      "text/plain": [
       "['Friday 10 September 2021',\n",
       " ['19:15',\n",
       "  'Youssoufia Berrechid',\n",
       "  '0 : 1',\n",
       "  'Raja Club Athletic',\n",
       "  'Week # 1',\n",
       "  'Friday 10 September 2021'],\n",
       " ['21:32',\n",
       "  'Olympique Club de Safi',\n",
       "  '0 : 1',\n",
       "  'Difaa Hassani El Jadidi',\n",
       "  'Week # 1',\n",
       "  'Friday 10 September 2021'],\n",
       " 'Saturday 11 September 2021',\n",
       " ['17:02',\n",
       "  'Olympique Club De Khouribga',\n",
       "  '0 : 0',\n",
       "  'Mouloudia Oujda',\n",
       "  'Week # 1',\n",
       "  'Saturday 11 September 2021']]"
      ]
     },
     "execution_count": 64,
     "metadata": {},
     "output_type": "execute_result"
    }
   ],
   "source": [
    "standing_table[:5]"
   ]
  },
  {
   "cell_type": "code",
   "execution_count": 65,
   "id": "04ac01af-1647-481a-b51a-67c208ea47d7",
   "metadata": {},
   "outputs": [],
   "source": [
    "for index in sorted(date_index, reverse=True):\n",
    "    del standing_table[index]"
   ]
  },
  {
   "cell_type": "code",
   "execution_count": 67,
   "id": "8ae007a4-a960-4eac-be19-1777b3477382",
   "metadata": {},
   "outputs": [
    {
     "data": {
      "text/plain": [
       "[['19:15',\n",
       "  'Youssoufia Berrechid',\n",
       "  '0 : 1',\n",
       "  'Raja Club Athletic',\n",
       "  'Week # 1',\n",
       "  'Friday 10 September 2021'],\n",
       " ['21:32',\n",
       "  'Olympique Club de Safi',\n",
       "  '0 : 1',\n",
       "  'Difaa Hassani El Jadidi',\n",
       "  'Week # 1',\n",
       "  'Friday 10 September 2021'],\n",
       " ['17:02',\n",
       "  'Olympique Club De Khouribga',\n",
       "  '0 : 0',\n",
       "  'Mouloudia Oujda',\n",
       "  'Week # 1',\n",
       "  'Saturday 11 September 2021'],\n",
       " ['19:16',\n",
       "  'Chabab Mohammedia',\n",
       "  '2 : 0',\n",
       "  'Fath Union Sport de Rabat',\n",
       "  'Week # 1',\n",
       "  'Saturday 11 September 2021'],\n",
       " ['21:31',\n",
       "  'Hassania Union Sport Agadir',\n",
       "  '1 : 0',\n",
       "  'Rapide Oued Zem',\n",
       "  'Week # 1',\n",
       "  'Saturday 11 September 2021']]"
      ]
     },
     "execution_count": 67,
     "metadata": {},
     "output_type": "execute_result"
    }
   ],
   "source": [
    "standing_table[:5]"
   ]
  },
  {
   "cell_type": "code",
   "execution_count": 68,
   "id": "470583f8-82a2-4752-b174-d53015d9e34c",
   "metadata": {},
   "outputs": [],
   "source": [
    "import pandas as pd\n",
    "\n",
    "df = pd.DataFrame(standing_table, columns =['Time', 'Receiving team', 'Score', 'Guest team', 'Week','Date'])"
   ]
  },
  {
   "cell_type": "code",
   "execution_count": 69,
   "id": "863dc02b-4f3f-4594-a6da-23f76dfdd0b6",
   "metadata": {},
   "outputs": [
    {
     "data": {
      "text/html": [
       "<div>\n",
       "<style scoped>\n",
       "    .dataframe tbody tr th:only-of-type {\n",
       "        vertical-align: middle;\n",
       "    }\n",
       "\n",
       "    .dataframe tbody tr th {\n",
       "        vertical-align: top;\n",
       "    }\n",
       "\n",
       "    .dataframe thead th {\n",
       "        text-align: right;\n",
       "    }\n",
       "</style>\n",
       "<table border=\"1\" class=\"dataframe\">\n",
       "  <thead>\n",
       "    <tr style=\"text-align: right;\">\n",
       "      <th></th>\n",
       "      <th>Time</th>\n",
       "      <th>Receiving team</th>\n",
       "      <th>Score</th>\n",
       "      <th>Guest team</th>\n",
       "      <th>Week</th>\n",
       "      <th>Date</th>\n",
       "    </tr>\n",
       "  </thead>\n",
       "  <tbody>\n",
       "    <tr>\n",
       "      <th>0</th>\n",
       "      <td>19:15</td>\n",
       "      <td>Youssoufia Berrechid</td>\n",
       "      <td>0 : 1</td>\n",
       "      <td>Raja Club Athletic</td>\n",
       "      <td>Week # 1</td>\n",
       "      <td>Friday 10 September 2021</td>\n",
       "    </tr>\n",
       "    <tr>\n",
       "      <th>1</th>\n",
       "      <td>21:32</td>\n",
       "      <td>Olympique Club de Safi</td>\n",
       "      <td>0 : 1</td>\n",
       "      <td>Difaa Hassani El Jadidi</td>\n",
       "      <td>Week # 1</td>\n",
       "      <td>Friday 10 September 2021</td>\n",
       "    </tr>\n",
       "    <tr>\n",
       "      <th>2</th>\n",
       "      <td>17:02</td>\n",
       "      <td>Olympique Club De Khouribga</td>\n",
       "      <td>0 : 0</td>\n",
       "      <td>Mouloudia Oujda</td>\n",
       "      <td>Week # 1</td>\n",
       "      <td>Saturday 11 September 2021</td>\n",
       "    </tr>\n",
       "    <tr>\n",
       "      <th>3</th>\n",
       "      <td>19:16</td>\n",
       "      <td>Chabab Mohammedia</td>\n",
       "      <td>2 : 0</td>\n",
       "      <td>Fath Union Sport de Rabat</td>\n",
       "      <td>Week # 1</td>\n",
       "      <td>Saturday 11 September 2021</td>\n",
       "    </tr>\n",
       "    <tr>\n",
       "      <th>4</th>\n",
       "      <td>21:31</td>\n",
       "      <td>Hassania Union Sport Agadir</td>\n",
       "      <td>1 : 0</td>\n",
       "      <td>Rapide Oued Zem</td>\n",
       "      <td>Week # 1</td>\n",
       "      <td>Saturday 11 September 2021</td>\n",
       "    </tr>\n",
       "    <tr>\n",
       "      <th>...</th>\n",
       "      <td>...</td>\n",
       "      <td>...</td>\n",
       "      <td>...</td>\n",
       "      <td>...</td>\n",
       "      <td>...</td>\n",
       "      <td>...</td>\n",
       "    </tr>\n",
       "    <tr>\n",
       "      <th>235</th>\n",
       "      <td>18:05</td>\n",
       "      <td>Chabab Mohammedia</td>\n",
       "      <td>0 : 3</td>\n",
       "      <td>Mouloudia Oujda</td>\n",
       "      <td>Week # 30</td>\n",
       "      <td>Sunday 3 July 2022</td>\n",
       "    </tr>\n",
       "    <tr>\n",
       "      <th>236</th>\n",
       "      <td>17:59</td>\n",
       "      <td>Youssoufia Berrechid</td>\n",
       "      <td>0 : 4</td>\n",
       "      <td>Renaissance de Berkane</td>\n",
       "      <td>Week # 30</td>\n",
       "      <td>Monday 4 July 2022</td>\n",
       "    </tr>\n",
       "    <tr>\n",
       "      <th>237</th>\n",
       "      <td>18:04</td>\n",
       "      <td>Olympique Club de Safi</td>\n",
       "      <td>0 : 0</td>\n",
       "      <td>JSS Jeunesse Sportive Soualem</td>\n",
       "      <td>Week # 30</td>\n",
       "      <td>Monday 4 July 2022</td>\n",
       "    </tr>\n",
       "    <tr>\n",
       "      <th>238</th>\n",
       "      <td>18:03</td>\n",
       "      <td>Wydad Athletic Club</td>\n",
       "      <td>1 : 2</td>\n",
       "      <td>Fath Union Sport de Rabat</td>\n",
       "      <td>Week # 30</td>\n",
       "      <td>Monday 4 July 2022</td>\n",
       "    </tr>\n",
       "    <tr>\n",
       "      <th>239</th>\n",
       "      <td>18:00</td>\n",
       "      <td>Hassania Union Sport Agadir</td>\n",
       "      <td>0 : 0</td>\n",
       "      <td>Ittihad Tanger</td>\n",
       "      <td>Week # 30</td>\n",
       "      <td>Tuesday 5 July 2022</td>\n",
       "    </tr>\n",
       "  </tbody>\n",
       "</table>\n",
       "<p>240 rows × 6 columns</p>\n",
       "</div>"
      ],
      "text/plain": [
       "      Time               Receiving team  Score                     Guest team  \\\n",
       "0    19:15         Youssoufia Berrechid  0 : 1             Raja Club Athletic   \n",
       "1    21:32       Olympique Club de Safi  0 : 1        Difaa Hassani El Jadidi   \n",
       "2    17:02  Olympique Club De Khouribga  0 : 0                Mouloudia Oujda   \n",
       "3    19:16            Chabab Mohammedia  2 : 0      Fath Union Sport de Rabat   \n",
       "4    21:31  Hassania Union Sport Agadir  1 : 0                Rapide Oued Zem   \n",
       "..     ...                          ...    ...                            ...   \n",
       "235  18:05            Chabab Mohammedia  0 : 3                Mouloudia Oujda   \n",
       "236  17:59         Youssoufia Berrechid  0 : 4         Renaissance de Berkane   \n",
       "237  18:04       Olympique Club de Safi  0 : 0  JSS Jeunesse Sportive Soualem   \n",
       "238  18:03          Wydad Athletic Club  1 : 2      Fath Union Sport de Rabat   \n",
       "239  18:00  Hassania Union Sport Agadir  0 : 0                 Ittihad Tanger   \n",
       "\n",
       "          Week                        Date  \n",
       "0     Week # 1    Friday 10 September 2021  \n",
       "1     Week # 1    Friday 10 September 2021  \n",
       "2     Week # 1  Saturday 11 September 2021  \n",
       "3     Week # 1  Saturday 11 September 2021  \n",
       "4     Week # 1  Saturday 11 September 2021  \n",
       "..         ...                         ...  \n",
       "235  Week # 30          Sunday 3 July 2022  \n",
       "236  Week # 30          Monday 4 July 2022  \n",
       "237  Week # 30          Monday 4 July 2022  \n",
       "238  Week # 30          Monday 4 July 2022  \n",
       "239  Week # 30         Tuesday 5 July 2022  \n",
       "\n",
       "[240 rows x 6 columns]"
      ]
     },
     "execution_count": 69,
     "metadata": {},
     "output_type": "execute_result"
    }
   ],
   "source": [
    "df"
   ]
  },
  {
   "cell_type": "code",
   "execution_count": null,
   "id": "3328fb64-0228-4420-a21d-057fe5632aaa",
   "metadata": {},
   "outputs": [],
   "source": []
  }
 ],
 "metadata": {
  "kernelspec": {
   "display_name": "Python 3 (ipykernel)",
   "language": "python",
   "name": "python3"
  },
  "language_info": {
   "codemirror_mode": {
    "name": "ipython",
    "version": 3
   },
   "file_extension": ".py",
   "mimetype": "text/x-python",
   "name": "python",
   "nbconvert_exporter": "python",
   "pygments_lexer": "ipython3",
   "version": "3.9.13"
  }
 },
 "nbformat": 4,
 "nbformat_minor": 5
}
